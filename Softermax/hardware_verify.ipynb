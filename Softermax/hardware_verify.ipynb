{
 "cells": [
  {
   "cell_type": "code",
   "execution_count": 1,
   "metadata": {},
   "outputs": [
    {
     "ename": "ValueError",
     "evalue": "invalid literal for int() with base 16: 'xxxxxxxx'",
     "output_type": "error",
     "traceback": [
      "\u001b[0;31m---------------------------------------------------------------------------\u001b[0m",
      "\u001b[0;31mValueError\u001b[0m                                Traceback (most recent call last)",
      "Cell \u001b[0;32mIn[1], line 9\u001b[0m\n\u001b[1;32m      3\u001b[0m \u001b[38;5;28;01mimport\u001b[39;00m \u001b[38;5;21;01mpandas\u001b[39;00m \u001b[38;5;28;01mas\u001b[39;00m \u001b[38;5;21;01mpd\u001b[39;00m \n\u001b[1;32m      6\u001b[0m arr \u001b[38;5;241m=\u001b[39m np\u001b[38;5;241m.\u001b[39mloadtxt(\u001b[38;5;124m\"\u001b[39m\u001b[38;5;124moutput.txt\u001b[39m\u001b[38;5;124m\"\u001b[39m, delimiter\u001b[38;5;241m=\u001b[39m\u001b[38;5;124m\"\u001b[39m\u001b[38;5;124m,\u001b[39m\u001b[38;5;124m\"\u001b[39m,  dtype\u001b[38;5;241m=\u001b[39m\u001b[38;5;28mstr\u001b[39m)\n\u001b[0;32m----> 9\u001b[0m fixed \u001b[38;5;241m=\u001b[39m \u001b[43mFxp\u001b[49m\u001b[43m(\u001b[49m\u001b[43marr\u001b[49m\u001b[43m)\u001b[49m\n\u001b[1;32m     12\u001b[0m max_vals \u001b[38;5;241m=\u001b[39m []\n\u001b[1;32m     13\u001b[0m \u001b[38;5;28;01mfor\u001b[39;00m line \u001b[38;5;129;01min\u001b[39;00m fixed:\n",
      "File \u001b[0;32m~/miniconda3/envs/hardware/lib/python3.9/site-packages/fxpmath/objects.py:228\u001b[0m, in \u001b[0;36mFxp.__init__\u001b[0;34m(self, val, signed, n_word, n_frac, n_int, like, dtype, **kwargs)\u001b[0m\n\u001b[1;32m    226\u001b[0m \u001b[38;5;66;03m# size\u001b[39;00m\n\u001b[1;32m    227\u001b[0m \u001b[38;5;28;01mif\u001b[39;00m \u001b[38;5;129;01mnot\u001b[39;00m _initialized:\n\u001b[0;32m--> 228\u001b[0m     \u001b[38;5;28;43mself\u001b[39;49m\u001b[38;5;241;43m.\u001b[39;49m\u001b[43m_init_size\u001b[49m\u001b[43m(\u001b[49m\u001b[43mval\u001b[49m\u001b[43m,\u001b[49m\u001b[43m \u001b[49m\u001b[43msigned\u001b[49m\u001b[43m,\u001b[49m\u001b[43m \u001b[49m\u001b[43mn_word\u001b[49m\u001b[43m,\u001b[49m\u001b[43m \u001b[49m\u001b[43mn_frac\u001b[49m\u001b[43m,\u001b[49m\u001b[43m \u001b[49m\u001b[43mn_int\u001b[49m\u001b[43m,\u001b[49m\u001b[43m \u001b[49m\u001b[43mmax_error\u001b[49m\u001b[38;5;241;43m=\u001b[39;49m\u001b[38;5;28;43mself\u001b[39;49m\u001b[38;5;241;43m.\u001b[39;49m\u001b[43mconfig\u001b[49m\u001b[38;5;241;43m.\u001b[39;49m\u001b[43mmax_error\u001b[49m\u001b[43m,\u001b[49m\u001b[43m \u001b[49m\u001b[43mn_word_max\u001b[49m\u001b[38;5;241;43m=\u001b[39;49m\u001b[38;5;28;43mself\u001b[39;49m\u001b[38;5;241;43m.\u001b[39;49m\u001b[43mconfig\u001b[49m\u001b[38;5;241;43m.\u001b[39;49m\u001b[43mn_word_max\u001b[49m\u001b[43m,\u001b[49m\u001b[43m \u001b[49m\u001b[43mraw\u001b[49m\u001b[38;5;241;43m=\u001b[39;49m\u001b[43mraw\u001b[49m\u001b[43m)\u001b[49m\n\u001b[1;32m    229\u001b[0m \u001b[38;5;28;01melse\u001b[39;00m:\n\u001b[1;32m    230\u001b[0m     \u001b[38;5;66;03m# overwrite with other sizes if some are not None\u001b[39;00m\n\u001b[1;32m    231\u001b[0m     \u001b[38;5;28mself\u001b[39m\u001b[38;5;241m.\u001b[39mresize(signed, n_word, n_frac, n_int)\n",
      "File \u001b[0;32m~/miniconda3/envs/hardware/lib/python3.9/site-packages/fxpmath/objects.py:366\u001b[0m, in \u001b[0;36mFxp._init_size\u001b[0;34m(self, val, signed, n_word, n_frac, n_int, max_error, n_word_max, raw)\u001b[0m\n\u001b[1;32m    364\u001b[0m \u001b[38;5;66;03m# check if I must find the best size for val\u001b[39;00m\n\u001b[1;32m    365\u001b[0m \u001b[38;5;28;01mif\u001b[39;00m n_word \u001b[38;5;129;01mis\u001b[39;00m \u001b[38;5;28;01mNone\u001b[39;00m \u001b[38;5;129;01mor\u001b[39;00m n_frac \u001b[38;5;129;01mis\u001b[39;00m \u001b[38;5;28;01mNone\u001b[39;00m:\n\u001b[0;32m--> 366\u001b[0m     \u001b[38;5;28;43mself\u001b[39;49m\u001b[38;5;241;43m.\u001b[39;49m\u001b[43mset_best_sizes\u001b[49m\u001b[43m(\u001b[49m\u001b[43mval\u001b[49m\u001b[43m,\u001b[49m\u001b[43m \u001b[49m\u001b[43mn_word\u001b[49m\u001b[43m,\u001b[49m\u001b[43m \u001b[49m\u001b[43mn_frac\u001b[49m\u001b[43m,\u001b[49m\u001b[43m \u001b[49m\u001b[43mmax_error\u001b[49m\u001b[38;5;241;43m=\u001b[39;49m\u001b[43mmax_error\u001b[49m\u001b[43m,\u001b[49m\u001b[43m \u001b[49m\u001b[43mn_word_max\u001b[49m\u001b[38;5;241;43m=\u001b[39;49m\u001b[43mn_word_max\u001b[49m\u001b[43m,\u001b[49m\u001b[43m \u001b[49m\u001b[43mraw\u001b[49m\u001b[38;5;241;43m=\u001b[39;49m\u001b[43mraw\u001b[49m\u001b[43m)\u001b[49m\n\u001b[1;32m    367\u001b[0m \u001b[38;5;28;01melse\u001b[39;00m:\n\u001b[1;32m    368\u001b[0m     \u001b[38;5;28mself\u001b[39m\u001b[38;5;241m.\u001b[39mresize(\u001b[38;5;28mself\u001b[39m\u001b[38;5;241m.\u001b[39msigned, n_word, n_frac, n_int)\n",
      "File \u001b[0;32m~/miniconda3/envs/hardware/lib/python3.9/site-packages/fxpmath/objects.py:492\u001b[0m, in \u001b[0;36mFxp.set_best_sizes\u001b[0;34m(self, val, n_word, n_frac, max_error, n_word_max, raw)\u001b[0m\n\u001b[1;32m    489\u001b[0m \u001b[38;5;28mself\u001b[39m\u001b[38;5;241m.\u001b[39mn_frac \u001b[38;5;241m=\u001b[39m n_frac\n\u001b[1;32m    491\u001b[0m \u001b[38;5;66;03m# if val is a str(s), convert to number(s)\u001b[39;00m\n\u001b[0;32m--> 492\u001b[0m val, _, raw, signed, n_word, n_frac \u001b[38;5;241m=\u001b[39m \u001b[38;5;28;43mself\u001b[39;49m\u001b[38;5;241;43m.\u001b[39;49m\u001b[43m_format_inupt_val\u001b[49m\u001b[43m(\u001b[49m\u001b[43mval\u001b[49m\u001b[43m,\u001b[49m\u001b[43m \u001b[49m\u001b[43mreturn_sizes\u001b[49m\u001b[38;5;241;43m=\u001b[39;49m\u001b[38;5;28;43;01mTrue\u001b[39;49;00m\u001b[43m,\u001b[49m\u001b[43m \u001b[49m\u001b[43mraw\u001b[49m\u001b[38;5;241;43m=\u001b[39;49m\u001b[43mraw\u001b[49m\u001b[43m)\u001b[49m\n\u001b[1;32m    493\u001b[0m val \u001b[38;5;241m=\u001b[39m np\u001b[38;5;241m.\u001b[39marray([val])\n\u001b[1;32m    495\u001b[0m \u001b[38;5;66;03m# check if val is complex, if it is: convert to array of float/int\u001b[39;00m\n",
      "File \u001b[0;32m~/miniconda3/envs/hardware/lib/python3.9/site-packages/fxpmath/objects.py:663\u001b[0m, in \u001b[0;36mFxp._format_inupt_val\u001b[0;34m(self, val, return_sizes, raw)\u001b[0m\n\u001b[1;32m    660\u001b[0m val \u001b[38;5;241m=\u001b[39m val\u001b[38;5;241m.\u001b[39mtolist()\n\u001b[1;32m    662\u001b[0m \u001b[38;5;28;01mif\u001b[39;00m \u001b[38;5;129;01mnot\u001b[39;00m raw:\n\u001b[0;32m--> 663\u001b[0m     val, signed, n_word, n_frac \u001b[38;5;241m=\u001b[39m \u001b[43mutils\u001b[49m\u001b[38;5;241;43m.\u001b[39;49m\u001b[43mstr2num\u001b[49m\u001b[43m(\u001b[49m\u001b[43mval\u001b[49m\u001b[43m,\u001b[49m\u001b[43m \u001b[49m\u001b[38;5;28;43mself\u001b[39;49m\u001b[38;5;241;43m.\u001b[39;49m\u001b[43msigned\u001b[49m\u001b[43m,\u001b[49m\u001b[43m \u001b[49m\u001b[38;5;28;43mself\u001b[39;49m\u001b[38;5;241;43m.\u001b[39;49m\u001b[43mn_word\u001b[49m\u001b[43m,\u001b[49m\u001b[43m \u001b[49m\u001b[38;5;28;43mself\u001b[39;49m\u001b[38;5;241;43m.\u001b[39;49m\u001b[43mn_frac\u001b[49m\u001b[43m,\u001b[49m\u001b[43m \u001b[49m\u001b[43mreturn_sizes\u001b[49m\u001b[38;5;241;43m=\u001b[39;49m\u001b[38;5;28;43;01mTrue\u001b[39;49;00m\u001b[43m)\u001b[49m\n\u001b[1;32m    664\u001b[0m \u001b[38;5;28;01melse\u001b[39;00m:\n\u001b[1;32m    665\u001b[0m     val, signed, n_word, _ \u001b[38;5;241m=\u001b[39m utils\u001b[38;5;241m.\u001b[39mstr2num(val, \u001b[38;5;28mself\u001b[39m\u001b[38;5;241m.\u001b[39msigned, \u001b[38;5;28mself\u001b[39m\u001b[38;5;241m.\u001b[39mn_word, \u001b[38;5;28;01mNone\u001b[39;00m, return_sizes\u001b[38;5;241m=\u001b[39m\u001b[38;5;28;01mTrue\u001b[39;00m)\n",
      "File \u001b[0;32m~/miniconda3/envs/hardware/lib/python3.9/site-packages/fxpmath/utils.py:154\u001b[0m, in \u001b[0;36mstr2num\u001b[0;34m(x, signed, n_word, n_frac, base, return_sizes)\u001b[0m\n\u001b[1;32m    151\u001b[0m _n_frac_max \u001b[38;5;241m=\u001b[39m \u001b[38;5;28;01mNone\u001b[39;00m\n\u001b[1;32m    153\u001b[0m \u001b[38;5;28;01mfor\u001b[39;00m idx, v \u001b[38;5;129;01min\u001b[39;00m \u001b[38;5;28menumerate\u001b[39m(x):\n\u001b[0;32m--> 154\u001b[0m     x[idx], _signed, _n_word, _n_frac \u001b[38;5;241m=\u001b[39m \u001b[43mstr2num\u001b[49m\u001b[43m(\u001b[49m\u001b[43mv\u001b[49m\u001b[43m,\u001b[49m\u001b[43m \u001b[49m\u001b[43msigned\u001b[49m\u001b[43m,\u001b[49m\u001b[43m \u001b[49m\u001b[43mn_word\u001b[49m\u001b[43m,\u001b[49m\u001b[43m \u001b[49m\u001b[43mn_frac\u001b[49m\u001b[43m,\u001b[49m\u001b[43m \u001b[49m\u001b[43mbase\u001b[49m\u001b[43m,\u001b[49m\u001b[43m \u001b[49m\u001b[43mreturn_sizes\u001b[49m\u001b[38;5;241;43m=\u001b[39;49m\u001b[38;5;28;43;01mTrue\u001b[39;49;00m\u001b[43m)\u001b[49m\n\u001b[1;32m    156\u001b[0m     _signed \u001b[38;5;241m=\u001b[39m _signed_max \u001b[38;5;129;01mor\u001b[39;00m _signed\n\u001b[1;32m    157\u001b[0m     \u001b[38;5;28;01mif\u001b[39;00m _n_word \u001b[38;5;129;01mis\u001b[39;00m \u001b[38;5;129;01mnot\u001b[39;00m \u001b[38;5;28;01mNone\u001b[39;00m:\n",
      "File \u001b[0;32m~/miniconda3/envs/hardware/lib/python3.9/site-packages/fxpmath/utils.py:154\u001b[0m, in \u001b[0;36mstr2num\u001b[0;34m(x, signed, n_word, n_frac, base, return_sizes)\u001b[0m\n\u001b[1;32m    151\u001b[0m _n_frac_max \u001b[38;5;241m=\u001b[39m \u001b[38;5;28;01mNone\u001b[39;00m\n\u001b[1;32m    153\u001b[0m \u001b[38;5;28;01mfor\u001b[39;00m idx, v \u001b[38;5;129;01min\u001b[39;00m \u001b[38;5;28menumerate\u001b[39m(x):\n\u001b[0;32m--> 154\u001b[0m     x[idx], _signed, _n_word, _n_frac \u001b[38;5;241m=\u001b[39m \u001b[43mstr2num\u001b[49m\u001b[43m(\u001b[49m\u001b[43mv\u001b[49m\u001b[43m,\u001b[49m\u001b[43m \u001b[49m\u001b[43msigned\u001b[49m\u001b[43m,\u001b[49m\u001b[43m \u001b[49m\u001b[43mn_word\u001b[49m\u001b[43m,\u001b[49m\u001b[43m \u001b[49m\u001b[43mn_frac\u001b[49m\u001b[43m,\u001b[49m\u001b[43m \u001b[49m\u001b[43mbase\u001b[49m\u001b[43m,\u001b[49m\u001b[43m \u001b[49m\u001b[43mreturn_sizes\u001b[49m\u001b[38;5;241;43m=\u001b[39;49m\u001b[38;5;28;43;01mTrue\u001b[39;49;00m\u001b[43m)\u001b[49m\n\u001b[1;32m    156\u001b[0m     _signed \u001b[38;5;241m=\u001b[39m _signed_max \u001b[38;5;129;01mor\u001b[39;00m _signed\n\u001b[1;32m    157\u001b[0m     \u001b[38;5;28;01mif\u001b[39;00m _n_word \u001b[38;5;129;01mis\u001b[39;00m \u001b[38;5;129;01mnot\u001b[39;00m \u001b[38;5;28;01mNone\u001b[39;00m:\n",
      "File \u001b[0;32m~/miniconda3/envs/hardware/lib/python3.9/site-packages/fxpmath/utils.py:183\u001b[0m, in \u001b[0;36mstr2num\u001b[0;34m(x, signed, n_word, n_frac, base, return_sizes)\u001b[0m\n\u001b[1;32m    181\u001b[0m         val, signed, n_word, n_frac \u001b[38;5;241m=\u001b[39m strhex2float(x, signed, n_word, n_frac, return_sizes\u001b[38;5;241m=\u001b[39m\u001b[38;5;28;01mTrue\u001b[39;00m)\n\u001b[1;32m    182\u001b[0m     \u001b[38;5;28;01melse\u001b[39;00m:\n\u001b[0;32m--> 183\u001b[0m         val, signed, n_word \u001b[38;5;241m=\u001b[39m \u001b[43mstrhex2int\u001b[49m\u001b[43m(\u001b[49m\u001b[43mx\u001b[49m\u001b[43m,\u001b[49m\u001b[43m \u001b[49m\u001b[43msigned\u001b[49m\u001b[43m,\u001b[49m\u001b[43m \u001b[49m\u001b[43mn_word\u001b[49m\u001b[43m,\u001b[49m\u001b[43m \u001b[49m\u001b[43mreturn_sizes\u001b[49m\u001b[38;5;241;43m=\u001b[39;49m\u001b[38;5;28;43;01mTrue\u001b[39;49;00m\u001b[43m)\u001b[49m\n\u001b[1;32m    184\u001b[0m         n_frac \u001b[38;5;241m=\u001b[39m \u001b[38;5;241m0\u001b[39m\n\u001b[1;32m    186\u001b[0m \u001b[38;5;28;01melif\u001b[39;00m base \u001b[38;5;241m==\u001b[39m \u001b[38;5;241m10\u001b[39m:\n",
      "File \u001b[0;32m~/miniconda3/envs/hardware/lib/python3.9/site-packages/fxpmath/utils.py:118\u001b[0m, in \u001b[0;36mstrhex2int\u001b[0;34m(x, signed, n_word, return_sizes)\u001b[0m\n\u001b[1;32m    115\u001b[0m \u001b[38;5;28;01mif\u001b[39;00m n_word \u001b[38;5;129;01mis\u001b[39;00m \u001b[38;5;28;01mNone\u001b[39;00m:\n\u001b[1;32m    116\u001b[0m     n_word \u001b[38;5;241m=\u001b[39m \u001b[38;5;28mlen\u001b[39m(x)\u001b[38;5;241m*\u001b[39m\u001b[38;5;241m4\u001b[39m\n\u001b[0;32m--> 118\u001b[0m x_bin \u001b[38;5;241m=\u001b[39m \u001b[38;5;28mbin\u001b[39m(\u001b[38;5;28;43mint\u001b[39;49m\u001b[43m(\u001b[49m\u001b[43mx\u001b[49m\u001b[43m,\u001b[49m\u001b[43m \u001b[49m\u001b[38;5;241;43m16\u001b[39;49m\u001b[43m)\u001b[49m)\n\u001b[1;32m    120\u001b[0m \u001b[38;5;28;01mif\u001b[39;00m \u001b[38;5;28mlen\u001b[39m(x_bin[\u001b[38;5;241m2\u001b[39m:]) \u001b[38;5;241m<\u001b[39m n_word:\n\u001b[1;32m    121\u001b[0m     x_bin \u001b[38;5;241m=\u001b[39m \u001b[38;5;124m'\u001b[39m\u001b[38;5;124m0b\u001b[39m\u001b[38;5;124m'\u001b[39m \u001b[38;5;241m+\u001b[39m \u001b[38;5;124m'\u001b[39m\u001b[38;5;124m0\u001b[39m\u001b[38;5;124m'\u001b[39m\u001b[38;5;241m*\u001b[39m(n_word \u001b[38;5;241m-\u001b[39m \u001b[38;5;28mlen\u001b[39m(x_bin[\u001b[38;5;241m2\u001b[39m:])) \u001b[38;5;241m+\u001b[39m x_bin[\u001b[38;5;241m2\u001b[39m:]\n",
      "\u001b[0;31mValueError\u001b[0m: invalid literal for int() with base 16: 'xxxxxxxx'"
     ]
    }
   ],
   "source": [
    "import numpy as np\n",
    "from fxpmath import Fxp\n",
    "import pandas as pd \n",
    "\n",
    "\n",
    "arr = np.loadtxt(\"output.txt\", delimiter=\",\",  dtype=str, skiprows=3)\n",
    "\n",
    "\n",
    "fixed = Fxp(arr)\n",
    "\n",
    "\n",
    "max_vals = []\n",
    "for line in fixed:\n",
    "    max_vals.append(np.argmax(line))\n",
    "    \n",
    "df = pd.DataFrame(max_vals)\n",
    "df.to_csv(\"generated_out.csv\")\n"
   ]
  },
  {
   "cell_type": "code",
   "execution_count": 5,
   "metadata": {},
   "outputs": [
    {
     "name": "stdout",
     "output_type": "stream",
     "text": [
      "Accuracy is  61.30874837158032\n"
     ]
    }
   ],
   "source": [
    "import numpy as np\n",
    "import pandas as pd \n",
    "\n",
    "data = pd.read_csv(\"generated_out.csv\").to_numpy()\n",
    "targets = pd.read_csv(\"targets.csv\").to_numpy()\n",
    "\n",
    "\n",
    "ctr = 0.0\n",
    "total = 0\n",
    "\n",
    "for i in range(data.shape[0]):\n",
    "    total = total + 1\n",
    "    if data[i][1] == int(targets[i][1]):\n",
    "        ctr = ctr + 1\n",
    "\n",
    "print(\"Accuracy is \", (ctr/total) * 100)"
   ]
  }
 ],
 "metadata": {
  "kernelspec": {
   "display_name": "hardware",
   "language": "python",
   "name": "python3"
  },
  "language_info": {
   "codemirror_mode": {
    "name": "ipython",
    "version": 3
   },
   "file_extension": ".py",
   "mimetype": "text/x-python",
   "name": "python",
   "nbconvert_exporter": "python",
   "pygments_lexer": "ipython3",
   "version": "3.9.18"
  }
 },
 "nbformat": 4,
 "nbformat_minor": 2
}
