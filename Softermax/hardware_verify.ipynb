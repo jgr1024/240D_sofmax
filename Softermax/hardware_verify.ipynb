{
 "cells": [
  {
   "cell_type": "code",
   "execution_count": 4,
   "metadata": {},
   "outputs": [],
   "source": [
    "import numpy as np\n",
    "from fxpmath import Fxp\n",
    "import pandas as pd \n",
    "\n",
    "\n",
    "arr = np.loadtxt(\"output.txt\", delimiter=\",\",  dtype=str, skiprows=3)\n",
    "\n",
    "\n",
    "fixed = Fxp(arr)\n",
    "\n",
    "\n",
    "max_vals = []\n",
    "for line in fixed:\n",
    "    max_vals.append(np.argmax(line))\n",
    "    \n",
    "df = pd.DataFrame(max_vals)\n",
    "df.to_csv(\"generated_out.csv\")\n"
   ]
  },
  {
   "cell_type": "code",
   "execution_count": 5,
   "metadata": {},
   "outputs": [
    {
     "name": "stdout",
     "output_type": "stream",
     "text": [
      "Accuracy is  61.302260452090415\n"
     ]
    }
   ],
   "source": [
    "import numpy as np\n",
    "import pandas as pd \n",
    "\n",
    "data = pd.read_csv(\"generated_out.csv\").to_numpy()\n",
    "targets = pd.read_csv(\"targets.csv\").to_numpy()\n",
    "\n",
    "\n",
    "ctr = 0.0\n",
    "total = 0\n",
    "\n",
    "for i in range(data.shape[0]):\n",
    "    total = total + 1\n",
    "    if data[i][1] == int(targets[i][1]):\n",
    "        ctr = ctr + 1\n",
    "\n",
    "print(\"Accuracy is \", (ctr/total) * 100)"
   ]
  }
 ],
 "metadata": {
  "kernelspec": {
   "display_name": "hardware",
   "language": "python",
   "name": "python3"
  },
  "language_info": {
   "codemirror_mode": {
    "name": "ipython",
    "version": 3
   },
   "file_extension": ".py",
   "mimetype": "text/x-python",
   "name": "python",
   "nbconvert_exporter": "python",
   "pygments_lexer": "ipython3",
   "version": "3.9.18"
  }
 },
 "nbformat": 4,
 "nbformat_minor": 2
}
